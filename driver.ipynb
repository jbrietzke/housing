{
 "cells": [
  {
   "cell_type": "code",
   "execution_count": 84,
   "id": "correct-helmet",
   "metadata": {},
   "outputs": [],
   "source": [
    "%matplotlib inline\n",
    "import pandas as pd\n",
    "import seaborn as sns\n",
    "import matplotlib.pyplot as plt\n",
    "import numpy as np"
   ]
  },
  {
   "cell_type": "code",
   "execution_count": 85,
   "id": "scientific-commitment",
   "metadata": {},
   "outputs": [],
   "source": [
    "home_train = './test.csv'\n",
    "o_train = pd.read_csv(home_train)"
   ]
  },
  {
   "cell_type": "code",
   "execution_count": 86,
   "id": "alone-engineering",
   "metadata": {},
   "outputs": [
    {
     "data": {
      "text/html": [
       "<div>\n",
       "<style scoped>\n",
       "    .dataframe tbody tr th:only-of-type {\n",
       "        vertical-align: middle;\n",
       "    }\n",
       "\n",
       "    .dataframe tbody tr th {\n",
       "        vertical-align: top;\n",
       "    }\n",
       "\n",
       "    .dataframe thead th {\n",
       "        text-align: right;\n",
       "    }\n",
       "</style>\n",
       "<table border=\"1\" class=\"dataframe\">\n",
       "  <thead>\n",
       "    <tr style=\"text-align: right;\">\n",
       "      <th></th>\n",
       "      <th>Id</th>\n",
       "      <th>MSSubClass</th>\n",
       "      <th>LotFrontage</th>\n",
       "      <th>LotArea</th>\n",
       "      <th>OverallQual</th>\n",
       "      <th>OverallCond</th>\n",
       "      <th>YearBuilt</th>\n",
       "      <th>YearRemodAdd</th>\n",
       "      <th>MasVnrArea</th>\n",
       "      <th>BsmtFinSF1</th>\n",
       "      <th>...</th>\n",
       "      <th>GarageArea</th>\n",
       "      <th>WoodDeckSF</th>\n",
       "      <th>OpenPorchSF</th>\n",
       "      <th>EnclosedPorch</th>\n",
       "      <th>3SsnPorch</th>\n",
       "      <th>ScreenPorch</th>\n",
       "      <th>PoolArea</th>\n",
       "      <th>MiscVal</th>\n",
       "      <th>MoSold</th>\n",
       "      <th>YrSold</th>\n",
       "    </tr>\n",
       "  </thead>\n",
       "  <tbody>\n",
       "    <tr>\n",
       "      <th>count</th>\n",
       "      <td>1459.000000</td>\n",
       "      <td>1459.000000</td>\n",
       "      <td>1232.000000</td>\n",
       "      <td>1459.000000</td>\n",
       "      <td>1459.000000</td>\n",
       "      <td>1459.000000</td>\n",
       "      <td>1459.000000</td>\n",
       "      <td>1459.000000</td>\n",
       "      <td>1444.000000</td>\n",
       "      <td>1458.000000</td>\n",
       "      <td>...</td>\n",
       "      <td>1458.000000</td>\n",
       "      <td>1459.000000</td>\n",
       "      <td>1459.000000</td>\n",
       "      <td>1459.000000</td>\n",
       "      <td>1459.000000</td>\n",
       "      <td>1459.000000</td>\n",
       "      <td>1459.000000</td>\n",
       "      <td>1459.000000</td>\n",
       "      <td>1459.000000</td>\n",
       "      <td>1459.000000</td>\n",
       "    </tr>\n",
       "    <tr>\n",
       "      <th>mean</th>\n",
       "      <td>2190.000000</td>\n",
       "      <td>57.378341</td>\n",
       "      <td>68.580357</td>\n",
       "      <td>9819.161069</td>\n",
       "      <td>6.078821</td>\n",
       "      <td>5.553804</td>\n",
       "      <td>1971.357779</td>\n",
       "      <td>1983.662783</td>\n",
       "      <td>100.709141</td>\n",
       "      <td>439.203704</td>\n",
       "      <td>...</td>\n",
       "      <td>472.768861</td>\n",
       "      <td>93.174777</td>\n",
       "      <td>48.313914</td>\n",
       "      <td>24.243317</td>\n",
       "      <td>1.794380</td>\n",
       "      <td>17.064428</td>\n",
       "      <td>1.744345</td>\n",
       "      <td>58.167923</td>\n",
       "      <td>6.104181</td>\n",
       "      <td>2007.769705</td>\n",
       "    </tr>\n",
       "    <tr>\n",
       "      <th>std</th>\n",
       "      <td>421.321334</td>\n",
       "      <td>42.746880</td>\n",
       "      <td>22.376841</td>\n",
       "      <td>4955.517327</td>\n",
       "      <td>1.436812</td>\n",
       "      <td>1.113740</td>\n",
       "      <td>30.390071</td>\n",
       "      <td>21.130467</td>\n",
       "      <td>177.625900</td>\n",
       "      <td>455.268042</td>\n",
       "      <td>...</td>\n",
       "      <td>217.048611</td>\n",
       "      <td>127.744882</td>\n",
       "      <td>68.883364</td>\n",
       "      <td>67.227765</td>\n",
       "      <td>20.207842</td>\n",
       "      <td>56.609763</td>\n",
       "      <td>30.491646</td>\n",
       "      <td>630.806978</td>\n",
       "      <td>2.722432</td>\n",
       "      <td>1.301740</td>\n",
       "    </tr>\n",
       "    <tr>\n",
       "      <th>min</th>\n",
       "      <td>1461.000000</td>\n",
       "      <td>20.000000</td>\n",
       "      <td>21.000000</td>\n",
       "      <td>1470.000000</td>\n",
       "      <td>1.000000</td>\n",
       "      <td>1.000000</td>\n",
       "      <td>1879.000000</td>\n",
       "      <td>1950.000000</td>\n",
       "      <td>0.000000</td>\n",
       "      <td>0.000000</td>\n",
       "      <td>...</td>\n",
       "      <td>0.000000</td>\n",
       "      <td>0.000000</td>\n",
       "      <td>0.000000</td>\n",
       "      <td>0.000000</td>\n",
       "      <td>0.000000</td>\n",
       "      <td>0.000000</td>\n",
       "      <td>0.000000</td>\n",
       "      <td>0.000000</td>\n",
       "      <td>1.000000</td>\n",
       "      <td>2006.000000</td>\n",
       "    </tr>\n",
       "    <tr>\n",
       "      <th>25%</th>\n",
       "      <td>1825.500000</td>\n",
       "      <td>20.000000</td>\n",
       "      <td>58.000000</td>\n",
       "      <td>7391.000000</td>\n",
       "      <td>5.000000</td>\n",
       "      <td>5.000000</td>\n",
       "      <td>1953.000000</td>\n",
       "      <td>1963.000000</td>\n",
       "      <td>0.000000</td>\n",
       "      <td>0.000000</td>\n",
       "      <td>...</td>\n",
       "      <td>318.000000</td>\n",
       "      <td>0.000000</td>\n",
       "      <td>0.000000</td>\n",
       "      <td>0.000000</td>\n",
       "      <td>0.000000</td>\n",
       "      <td>0.000000</td>\n",
       "      <td>0.000000</td>\n",
       "      <td>0.000000</td>\n",
       "      <td>4.000000</td>\n",
       "      <td>2007.000000</td>\n",
       "    </tr>\n",
       "    <tr>\n",
       "      <th>50%</th>\n",
       "      <td>2190.000000</td>\n",
       "      <td>50.000000</td>\n",
       "      <td>67.000000</td>\n",
       "      <td>9399.000000</td>\n",
       "      <td>6.000000</td>\n",
       "      <td>5.000000</td>\n",
       "      <td>1973.000000</td>\n",
       "      <td>1992.000000</td>\n",
       "      <td>0.000000</td>\n",
       "      <td>350.500000</td>\n",
       "      <td>...</td>\n",
       "      <td>480.000000</td>\n",
       "      <td>0.000000</td>\n",
       "      <td>28.000000</td>\n",
       "      <td>0.000000</td>\n",
       "      <td>0.000000</td>\n",
       "      <td>0.000000</td>\n",
       "      <td>0.000000</td>\n",
       "      <td>0.000000</td>\n",
       "      <td>6.000000</td>\n",
       "      <td>2008.000000</td>\n",
       "    </tr>\n",
       "    <tr>\n",
       "      <th>75%</th>\n",
       "      <td>2554.500000</td>\n",
       "      <td>70.000000</td>\n",
       "      <td>80.000000</td>\n",
       "      <td>11517.500000</td>\n",
       "      <td>7.000000</td>\n",
       "      <td>6.000000</td>\n",
       "      <td>2001.000000</td>\n",
       "      <td>2004.000000</td>\n",
       "      <td>164.000000</td>\n",
       "      <td>753.500000</td>\n",
       "      <td>...</td>\n",
       "      <td>576.000000</td>\n",
       "      <td>168.000000</td>\n",
       "      <td>72.000000</td>\n",
       "      <td>0.000000</td>\n",
       "      <td>0.000000</td>\n",
       "      <td>0.000000</td>\n",
       "      <td>0.000000</td>\n",
       "      <td>0.000000</td>\n",
       "      <td>8.000000</td>\n",
       "      <td>2009.000000</td>\n",
       "    </tr>\n",
       "    <tr>\n",
       "      <th>max</th>\n",
       "      <td>2919.000000</td>\n",
       "      <td>190.000000</td>\n",
       "      <td>200.000000</td>\n",
       "      <td>56600.000000</td>\n",
       "      <td>10.000000</td>\n",
       "      <td>9.000000</td>\n",
       "      <td>2010.000000</td>\n",
       "      <td>2010.000000</td>\n",
       "      <td>1290.000000</td>\n",
       "      <td>4010.000000</td>\n",
       "      <td>...</td>\n",
       "      <td>1488.000000</td>\n",
       "      <td>1424.000000</td>\n",
       "      <td>742.000000</td>\n",
       "      <td>1012.000000</td>\n",
       "      <td>360.000000</td>\n",
       "      <td>576.000000</td>\n",
       "      <td>800.000000</td>\n",
       "      <td>17000.000000</td>\n",
       "      <td>12.000000</td>\n",
       "      <td>2010.000000</td>\n",
       "    </tr>\n",
       "  </tbody>\n",
       "</table>\n",
       "<p>8 rows × 37 columns</p>\n",
       "</div>"
      ],
      "text/plain": [
       "                Id   MSSubClass  LotFrontage       LotArea  OverallQual  \\\n",
       "count  1459.000000  1459.000000  1232.000000   1459.000000  1459.000000   \n",
       "mean   2190.000000    57.378341    68.580357   9819.161069     6.078821   \n",
       "std     421.321334    42.746880    22.376841   4955.517327     1.436812   \n",
       "min    1461.000000    20.000000    21.000000   1470.000000     1.000000   \n",
       "25%    1825.500000    20.000000    58.000000   7391.000000     5.000000   \n",
       "50%    2190.000000    50.000000    67.000000   9399.000000     6.000000   \n",
       "75%    2554.500000    70.000000    80.000000  11517.500000     7.000000   \n",
       "max    2919.000000   190.000000   200.000000  56600.000000    10.000000   \n",
       "\n",
       "       OverallCond    YearBuilt  YearRemodAdd   MasVnrArea   BsmtFinSF1  ...  \\\n",
       "count  1459.000000  1459.000000   1459.000000  1444.000000  1458.000000  ...   \n",
       "mean      5.553804  1971.357779   1983.662783   100.709141   439.203704  ...   \n",
       "std       1.113740    30.390071     21.130467   177.625900   455.268042  ...   \n",
       "min       1.000000  1879.000000   1950.000000     0.000000     0.000000  ...   \n",
       "25%       5.000000  1953.000000   1963.000000     0.000000     0.000000  ...   \n",
       "50%       5.000000  1973.000000   1992.000000     0.000000   350.500000  ...   \n",
       "75%       6.000000  2001.000000   2004.000000   164.000000   753.500000  ...   \n",
       "max       9.000000  2010.000000   2010.000000  1290.000000  4010.000000  ...   \n",
       "\n",
       "        GarageArea   WoodDeckSF  OpenPorchSF  EnclosedPorch    3SsnPorch  \\\n",
       "count  1458.000000  1459.000000  1459.000000    1459.000000  1459.000000   \n",
       "mean    472.768861    93.174777    48.313914      24.243317     1.794380   \n",
       "std     217.048611   127.744882    68.883364      67.227765    20.207842   \n",
       "min       0.000000     0.000000     0.000000       0.000000     0.000000   \n",
       "25%     318.000000     0.000000     0.000000       0.000000     0.000000   \n",
       "50%     480.000000     0.000000    28.000000       0.000000     0.000000   \n",
       "75%     576.000000   168.000000    72.000000       0.000000     0.000000   \n",
       "max    1488.000000  1424.000000   742.000000    1012.000000   360.000000   \n",
       "\n",
       "       ScreenPorch     PoolArea       MiscVal       MoSold       YrSold  \n",
       "count  1459.000000  1459.000000   1459.000000  1459.000000  1459.000000  \n",
       "mean     17.064428     1.744345     58.167923     6.104181  2007.769705  \n",
       "std      56.609763    30.491646    630.806978     2.722432     1.301740  \n",
       "min       0.000000     0.000000      0.000000     1.000000  2006.000000  \n",
       "25%       0.000000     0.000000      0.000000     4.000000  2007.000000  \n",
       "50%       0.000000     0.000000      0.000000     6.000000  2008.000000  \n",
       "75%       0.000000     0.000000      0.000000     8.000000  2009.000000  \n",
       "max     576.000000   800.000000  17000.000000    12.000000  2010.000000  \n",
       "\n",
       "[8 rows x 37 columns]"
      ]
     },
     "execution_count": 86,
     "metadata": {},
     "output_type": "execute_result"
    }
   ],
   "source": [
    "o_train.describe()"
   ]
  },
  {
   "cell_type": "code",
   "execution_count": 87,
   "id": "optional-throw",
   "metadata": {},
   "outputs": [
    {
     "name": "stdout",
     "output_type": "stream",
     "text": [
      "<class 'pandas.core.frame.DataFrame'>\n",
      "RangeIndex: 1459 entries, 0 to 1458\n",
      "Data columns (total 80 columns):\n",
      " #   Column         Non-Null Count  Dtype  \n",
      "---  ------         --------------  -----  \n",
      " 0   Id             1459 non-null   int64  \n",
      " 1   MSSubClass     1459 non-null   int64  \n",
      " 2   MSZoning       1455 non-null   object \n",
      " 3   LotFrontage    1232 non-null   float64\n",
      " 4   LotArea        1459 non-null   int64  \n",
      " 5   Street         1459 non-null   object \n",
      " 6   Alley          107 non-null    object \n",
      " 7   LotShape       1459 non-null   object \n",
      " 8   LandContour    1459 non-null   object \n",
      " 9   Utilities      1457 non-null   object \n",
      " 10  LotConfig      1459 non-null   object \n",
      " 11  LandSlope      1459 non-null   object \n",
      " 12  Neighborhood   1459 non-null   object \n",
      " 13  Condition1     1459 non-null   object \n",
      " 14  Condition2     1459 non-null   object \n",
      " 15  BldgType       1459 non-null   object \n",
      " 16  HouseStyle     1459 non-null   object \n",
      " 17  OverallQual    1459 non-null   int64  \n",
      " 18  OverallCond    1459 non-null   int64  \n",
      " 19  YearBuilt      1459 non-null   int64  \n",
      " 20  YearRemodAdd   1459 non-null   int64  \n",
      " 21  RoofStyle      1459 non-null   object \n",
      " 22  RoofMatl       1459 non-null   object \n",
      " 23  Exterior1st    1458 non-null   object \n",
      " 24  Exterior2nd    1458 non-null   object \n",
      " 25  MasVnrType     1443 non-null   object \n",
      " 26  MasVnrArea     1444 non-null   float64\n",
      " 27  ExterQual      1459 non-null   object \n",
      " 28  ExterCond      1459 non-null   object \n",
      " 29  Foundation     1459 non-null   object \n",
      " 30  BsmtQual       1415 non-null   object \n",
      " 31  BsmtCond       1414 non-null   object \n",
      " 32  BsmtExposure   1415 non-null   object \n",
      " 33  BsmtFinType1   1417 non-null   object \n",
      " 34  BsmtFinSF1     1458 non-null   float64\n",
      " 35  BsmtFinType2   1417 non-null   object \n",
      " 36  BsmtFinSF2     1458 non-null   float64\n",
      " 37  BsmtUnfSF      1458 non-null   float64\n",
      " 38  TotalBsmtSF    1458 non-null   float64\n",
      " 39  Heating        1459 non-null   object \n",
      " 40  HeatingQC      1459 non-null   object \n",
      " 41  CentralAir     1459 non-null   object \n",
      " 42  Electrical     1459 non-null   object \n",
      " 43  1stFlrSF       1459 non-null   int64  \n",
      " 44  2ndFlrSF       1459 non-null   int64  \n",
      " 45  LowQualFinSF   1459 non-null   int64  \n",
      " 46  GrLivArea      1459 non-null   int64  \n",
      " 47  BsmtFullBath   1457 non-null   float64\n",
      " 48  BsmtHalfBath   1457 non-null   float64\n",
      " 49  FullBath       1459 non-null   int64  \n",
      " 50  HalfBath       1459 non-null   int64  \n",
      " 51  BedroomAbvGr   1459 non-null   int64  \n",
      " 52  KitchenAbvGr   1459 non-null   int64  \n",
      " 53  KitchenQual    1458 non-null   object \n",
      " 54  TotRmsAbvGrd   1459 non-null   int64  \n",
      " 55  Functional     1457 non-null   object \n",
      " 56  Fireplaces     1459 non-null   int64  \n",
      " 57  FireplaceQu    729 non-null    object \n",
      " 58  GarageType     1383 non-null   object \n",
      " 59  GarageYrBlt    1381 non-null   float64\n",
      " 60  GarageFinish   1381 non-null   object \n",
      " 61  GarageCars     1458 non-null   float64\n",
      " 62  GarageArea     1458 non-null   float64\n",
      " 63  GarageQual     1381 non-null   object \n",
      " 64  GarageCond     1381 non-null   object \n",
      " 65  PavedDrive     1459 non-null   object \n",
      " 66  WoodDeckSF     1459 non-null   int64  \n",
      " 67  OpenPorchSF    1459 non-null   int64  \n",
      " 68  EnclosedPorch  1459 non-null   int64  \n",
      " 69  3SsnPorch      1459 non-null   int64  \n",
      " 70  ScreenPorch    1459 non-null   int64  \n",
      " 71  PoolArea       1459 non-null   int64  \n",
      " 72  PoolQC         3 non-null      object \n",
      " 73  Fence          290 non-null    object \n",
      " 74  MiscFeature    51 non-null     object \n",
      " 75  MiscVal        1459 non-null   int64  \n",
      " 76  MoSold         1459 non-null   int64  \n",
      " 77  YrSold         1459 non-null   int64  \n",
      " 78  SaleType       1458 non-null   object \n",
      " 79  SaleCondition  1459 non-null   object \n",
      "dtypes: float64(11), int64(26), object(43)\n",
      "memory usage: 912.0+ KB\n"
     ]
    }
   ],
   "source": [
    "o_train.info()"
   ]
  },
  {
   "cell_type": "code",
   "execution_count": 88,
   "id": "naked-rhythm",
   "metadata": {},
   "outputs": [
    {
     "data": {
      "text/html": [
       "<div>\n",
       "<style scoped>\n",
       "    .dataframe tbody tr th:only-of-type {\n",
       "        vertical-align: middle;\n",
       "    }\n",
       "\n",
       "    .dataframe tbody tr th {\n",
       "        vertical-align: top;\n",
       "    }\n",
       "\n",
       "    .dataframe thead th {\n",
       "        text-align: right;\n",
       "    }\n",
       "</style>\n",
       "<table border=\"1\" class=\"dataframe\">\n",
       "  <thead>\n",
       "    <tr style=\"text-align: right;\">\n",
       "      <th></th>\n",
       "      <th>MSZoning</th>\n",
       "      <th>Street</th>\n",
       "      <th>Alley</th>\n",
       "      <th>LotShape</th>\n",
       "      <th>LandContour</th>\n",
       "      <th>Utilities</th>\n",
       "      <th>LotConfig</th>\n",
       "      <th>LandSlope</th>\n",
       "      <th>Neighborhood</th>\n",
       "      <th>Condition1</th>\n",
       "      <th>...</th>\n",
       "      <th>GarageType</th>\n",
       "      <th>GarageFinish</th>\n",
       "      <th>GarageQual</th>\n",
       "      <th>GarageCond</th>\n",
       "      <th>PavedDrive</th>\n",
       "      <th>PoolQC</th>\n",
       "      <th>Fence</th>\n",
       "      <th>MiscFeature</th>\n",
       "      <th>SaleType</th>\n",
       "      <th>SaleCondition</th>\n",
       "    </tr>\n",
       "  </thead>\n",
       "  <tbody>\n",
       "    <tr>\n",
       "      <th>0</th>\n",
       "      <td>RH</td>\n",
       "      <td>Pave</td>\n",
       "      <td>NaN</td>\n",
       "      <td>Reg</td>\n",
       "      <td>Lvl</td>\n",
       "      <td>AllPub</td>\n",
       "      <td>Inside</td>\n",
       "      <td>Gtl</td>\n",
       "      <td>NAmes</td>\n",
       "      <td>Feedr</td>\n",
       "      <td>...</td>\n",
       "      <td>Attchd</td>\n",
       "      <td>Unf</td>\n",
       "      <td>TA</td>\n",
       "      <td>TA</td>\n",
       "      <td>Y</td>\n",
       "      <td>NaN</td>\n",
       "      <td>MnPrv</td>\n",
       "      <td>NaN</td>\n",
       "      <td>WD</td>\n",
       "      <td>Normal</td>\n",
       "    </tr>\n",
       "    <tr>\n",
       "      <th>1</th>\n",
       "      <td>RL</td>\n",
       "      <td>Pave</td>\n",
       "      <td>NaN</td>\n",
       "      <td>IR1</td>\n",
       "      <td>Lvl</td>\n",
       "      <td>AllPub</td>\n",
       "      <td>Corner</td>\n",
       "      <td>Gtl</td>\n",
       "      <td>NAmes</td>\n",
       "      <td>Norm</td>\n",
       "      <td>...</td>\n",
       "      <td>Attchd</td>\n",
       "      <td>Unf</td>\n",
       "      <td>TA</td>\n",
       "      <td>TA</td>\n",
       "      <td>Y</td>\n",
       "      <td>NaN</td>\n",
       "      <td>NaN</td>\n",
       "      <td>Gar2</td>\n",
       "      <td>WD</td>\n",
       "      <td>Normal</td>\n",
       "    </tr>\n",
       "    <tr>\n",
       "      <th>2</th>\n",
       "      <td>RL</td>\n",
       "      <td>Pave</td>\n",
       "      <td>NaN</td>\n",
       "      <td>IR1</td>\n",
       "      <td>Lvl</td>\n",
       "      <td>AllPub</td>\n",
       "      <td>Inside</td>\n",
       "      <td>Gtl</td>\n",
       "      <td>Gilbert</td>\n",
       "      <td>Norm</td>\n",
       "      <td>...</td>\n",
       "      <td>Attchd</td>\n",
       "      <td>Fin</td>\n",
       "      <td>TA</td>\n",
       "      <td>TA</td>\n",
       "      <td>Y</td>\n",
       "      <td>NaN</td>\n",
       "      <td>MnPrv</td>\n",
       "      <td>NaN</td>\n",
       "      <td>WD</td>\n",
       "      <td>Normal</td>\n",
       "    </tr>\n",
       "    <tr>\n",
       "      <th>3</th>\n",
       "      <td>RL</td>\n",
       "      <td>Pave</td>\n",
       "      <td>NaN</td>\n",
       "      <td>IR1</td>\n",
       "      <td>Lvl</td>\n",
       "      <td>AllPub</td>\n",
       "      <td>Inside</td>\n",
       "      <td>Gtl</td>\n",
       "      <td>Gilbert</td>\n",
       "      <td>Norm</td>\n",
       "      <td>...</td>\n",
       "      <td>Attchd</td>\n",
       "      <td>Fin</td>\n",
       "      <td>TA</td>\n",
       "      <td>TA</td>\n",
       "      <td>Y</td>\n",
       "      <td>NaN</td>\n",
       "      <td>NaN</td>\n",
       "      <td>NaN</td>\n",
       "      <td>WD</td>\n",
       "      <td>Normal</td>\n",
       "    </tr>\n",
       "    <tr>\n",
       "      <th>4</th>\n",
       "      <td>RL</td>\n",
       "      <td>Pave</td>\n",
       "      <td>NaN</td>\n",
       "      <td>IR1</td>\n",
       "      <td>HLS</td>\n",
       "      <td>AllPub</td>\n",
       "      <td>Inside</td>\n",
       "      <td>Gtl</td>\n",
       "      <td>StoneBr</td>\n",
       "      <td>Norm</td>\n",
       "      <td>...</td>\n",
       "      <td>Attchd</td>\n",
       "      <td>RFn</td>\n",
       "      <td>TA</td>\n",
       "      <td>TA</td>\n",
       "      <td>Y</td>\n",
       "      <td>NaN</td>\n",
       "      <td>NaN</td>\n",
       "      <td>NaN</td>\n",
       "      <td>WD</td>\n",
       "      <td>Normal</td>\n",
       "    </tr>\n",
       "  </tbody>\n",
       "</table>\n",
       "<p>5 rows × 43 columns</p>\n",
       "</div>"
      ],
      "text/plain": [
       "  MSZoning Street Alley LotShape LandContour Utilities LotConfig LandSlope  \\\n",
       "0       RH   Pave   NaN      Reg         Lvl    AllPub    Inside       Gtl   \n",
       "1       RL   Pave   NaN      IR1         Lvl    AllPub    Corner       Gtl   \n",
       "2       RL   Pave   NaN      IR1         Lvl    AllPub    Inside       Gtl   \n",
       "3       RL   Pave   NaN      IR1         Lvl    AllPub    Inside       Gtl   \n",
       "4       RL   Pave   NaN      IR1         HLS    AllPub    Inside       Gtl   \n",
       "\n",
       "  Neighborhood Condition1  ... GarageType GarageFinish GarageQual GarageCond  \\\n",
       "0        NAmes      Feedr  ...     Attchd          Unf         TA         TA   \n",
       "1        NAmes       Norm  ...     Attchd          Unf         TA         TA   \n",
       "2      Gilbert       Norm  ...     Attchd          Fin         TA         TA   \n",
       "3      Gilbert       Norm  ...     Attchd          Fin         TA         TA   \n",
       "4      StoneBr       Norm  ...     Attchd          RFn         TA         TA   \n",
       "\n",
       "  PavedDrive PoolQC  Fence MiscFeature SaleType SaleCondition  \n",
       "0          Y    NaN  MnPrv         NaN       WD        Normal  \n",
       "1          Y    NaN    NaN        Gar2       WD        Normal  \n",
       "2          Y    NaN  MnPrv         NaN       WD        Normal  \n",
       "3          Y    NaN    NaN         NaN       WD        Normal  \n",
       "4          Y    NaN    NaN         NaN       WD        Normal  \n",
       "\n",
       "[5 rows x 43 columns]"
      ]
     },
     "execution_count": 88,
     "metadata": {},
     "output_type": "execute_result"
    }
   ],
   "source": [
    "obj_train = o_train.select_dtypes(include=['object']).copy()\n",
    "obj_train.head()"
   ]
  },
  {
   "cell_type": "code",
   "execution_count": 89,
   "id": "accessory-slovak",
   "metadata": {},
   "outputs": [
    {
     "name": "stdout",
     "output_type": "stream",
     "text": [
      "<class 'pandas.core.frame.DataFrame'>\n",
      "RangeIndex: 1459 entries, 0 to 1458\n",
      "Data columns (total 43 columns):\n",
      " #   Column         Non-Null Count  Dtype \n",
      "---  ------         --------------  ----- \n",
      " 0   MSZoning       1455 non-null   object\n",
      " 1   Street         1459 non-null   object\n",
      " 2   Alley          107 non-null    object\n",
      " 3   LotShape       1459 non-null   object\n",
      " 4   LandContour    1459 non-null   object\n",
      " 5   Utilities      1457 non-null   object\n",
      " 6   LotConfig      1459 non-null   object\n",
      " 7   LandSlope      1459 non-null   object\n",
      " 8   Neighborhood   1459 non-null   object\n",
      " 9   Condition1     1459 non-null   object\n",
      " 10  Condition2     1459 non-null   object\n",
      " 11  BldgType       1459 non-null   object\n",
      " 12  HouseStyle     1459 non-null   object\n",
      " 13  RoofStyle      1459 non-null   object\n",
      " 14  RoofMatl       1459 non-null   object\n",
      " 15  Exterior1st    1458 non-null   object\n",
      " 16  Exterior2nd    1458 non-null   object\n",
      " 17  MasVnrType     1443 non-null   object\n",
      " 18  ExterQual      1459 non-null   object\n",
      " 19  ExterCond      1459 non-null   object\n",
      " 20  Foundation     1459 non-null   object\n",
      " 21  BsmtQual       1415 non-null   object\n",
      " 22  BsmtCond       1414 non-null   object\n",
      " 23  BsmtExposure   1415 non-null   object\n",
      " 24  BsmtFinType1   1417 non-null   object\n",
      " 25  BsmtFinType2   1417 non-null   object\n",
      " 26  Heating        1459 non-null   object\n",
      " 27  HeatingQC      1459 non-null   object\n",
      " 28  CentralAir     1459 non-null   object\n",
      " 29  Electrical     1459 non-null   object\n",
      " 30  KitchenQual    1458 non-null   object\n",
      " 31  Functional     1457 non-null   object\n",
      " 32  FireplaceQu    729 non-null    object\n",
      " 33  GarageType     1383 non-null   object\n",
      " 34  GarageFinish   1381 non-null   object\n",
      " 35  GarageQual     1381 non-null   object\n",
      " 36  GarageCond     1381 non-null   object\n",
      " 37  PavedDrive     1459 non-null   object\n",
      " 38  PoolQC         3 non-null      object\n",
      " 39  Fence          290 non-null    object\n",
      " 40  MiscFeature    51 non-null     object\n",
      " 41  SaleType       1458 non-null   object\n",
      " 42  SaleCondition  1459 non-null   object\n",
      "dtypes: object(43)\n",
      "memory usage: 490.3+ KB\n"
     ]
    }
   ],
   "source": [
    "obj_train.info()"
   ]
  },
  {
   "cell_type": "code",
   "execution_count": 90,
   "id": "renewable-harbor",
   "metadata": {},
   "outputs": [
    {
     "data": {
      "text/plain": [
       "4"
      ]
     },
     "execution_count": 90,
     "metadata": {},
     "output_type": "execute_result"
    }
   ],
   "source": [
    "obj_train.MSZoning.unique()\n",
    "obj_train['MSZoning'].isnull().sum()"
   ]
  },
  {
   "cell_type": "code",
   "execution_count": 91,
   "id": "deluxe-wound",
   "metadata": {},
   "outputs": [
    {
     "name": "stdout",
     "output_type": "stream",
     "text": [
      "RL         1114\n",
      "RM          242\n",
      "FV           74\n",
      "C (all)      15\n",
      "RH           10\n",
      "Name: MSZoning, dtype: int64\n"
     ]
    },
    {
     "name": "stderr",
     "output_type": "stream",
     "text": [
      "/Users/jackbrietzke/opt/anaconda3/lib/python3.8/site-packages/seaborn/_decorators.py:36: FutureWarning: Pass the following variables as keyword args: x, y. From version 0.12, the only valid positional argument will be `data`, and passing other arguments without an explicit keyword will result in an error or misinterpretation.\n",
      "  warnings.warn(\n"
     ]
    },
    {
     "data": {
      "text/plain": [
       "<AxesSubplot:>"
      ]
     },
     "execution_count": 91,
     "metadata": {},
     "output_type": "execute_result"
    },
    {
     "data": {
      "image/png": "[encoded data removed]",
      "text/plain": [
       "<Figure size 432x288 with 1 Axes>"
      ]
     },
     "metadata": {
      "needs_background": "light"
     },
     "output_type": "display_data"
    }
   ],
   "source": [
    "ms = obj_train['MSZoning'].value_counts()\n",
    "print(ms)\n",
    "sns.barplot(ms.index, ms.values)"
   ]
  },
  {
   "cell_type": "code",
   "execution_count": 92,
   "id": "anticipated-liver",
   "metadata": {},
   "outputs": [
    {
     "name": "stdout",
     "output_type": "stream",
     "text": [
      "     Street Alley LotShape LandContour Utilities LotConfig LandSlope  \\\n",
      "0      Pave   NaN      Reg         Lvl    AllPub    Inside       Gtl   \n",
      "1      Pave   NaN      IR1         Lvl    AllPub    Corner       Gtl   \n",
      "2      Pave   NaN      IR1         Lvl    AllPub    Inside       Gtl   \n",
      "3      Pave   NaN      IR1         Lvl    AllPub    Inside       Gtl   \n",
      "4      Pave   NaN      IR1         HLS    AllPub    Inside       Gtl   \n",
      "...     ...   ...      ...         ...       ...       ...       ...   \n",
      "1454   Pave   NaN      Reg         Lvl    AllPub    Inside       Gtl   \n",
      "1455   Pave   NaN      Reg         Lvl    AllPub    Inside       Gtl   \n",
      "1456   Pave   NaN      Reg         Lvl    AllPub    Inside       Gtl   \n",
      "1457   Pave   NaN      Reg         Lvl    AllPub    Inside       Gtl   \n",
      "1458   Pave   NaN      Reg         Lvl    AllPub    Inside       Mod   \n",
      "\n",
      "     Neighborhood Condition1 Condition2  ...  Fence MiscFeature SaleType  \\\n",
      "0           NAmes      Feedr       Norm  ...  MnPrv         NaN       WD   \n",
      "1           NAmes       Norm       Norm  ...    NaN        Gar2       WD   \n",
      "2         Gilbert       Norm       Norm  ...  MnPrv         NaN       WD   \n",
      "3         Gilbert       Norm       Norm  ...    NaN         NaN       WD   \n",
      "4         StoneBr       Norm       Norm  ...    NaN         NaN       WD   \n",
      "...           ...        ...        ...  ...    ...         ...      ...   \n",
      "1454      MeadowV       Norm       Norm  ...    NaN         NaN       WD   \n",
      "1455      MeadowV       Norm       Norm  ...    NaN         NaN       WD   \n",
      "1456      Mitchel       Norm       Norm  ...    NaN         NaN       WD   \n",
      "1457      Mitchel       Norm       Norm  ...  MnPrv        Shed       WD   \n",
      "1458      Mitchel       Norm       Norm  ...    NaN         NaN       WD   \n",
      "\n",
      "     SaleCondition MSZoning_C (all) MSZoning_FV MSZoning_RH MSZoning_RL  \\\n",
      "0           Normal                0           0           1           0   \n",
      "1           Normal                0           0           0           1   \n",
      "2           Normal                0           0           0           1   \n",
      "3           Normal                0           0           0           1   \n",
      "4           Normal                0           0           0           1   \n",
      "...            ...              ...         ...         ...         ...   \n",
      "1454        Normal                0           0           0           0   \n",
      "1455       Abnorml                0           0           0           0   \n",
      "1456       Abnorml                0           0           0           1   \n",
      "1457        Normal                0           0           0           1   \n",
      "1458        Normal                0           0           0           1   \n",
      "\n",
      "     MSZoning_RM MSZoning_nan  \n",
      "0              0            0  \n",
      "1              0            0  \n",
      "2              0            0  \n",
      "3              0            0  \n",
      "4              0            0  \n",
      "...          ...          ...  \n",
      "1454           1            0  \n",
      "1455           1            0  \n",
      "1456           0            0  \n",
      "1457           0            0  \n",
      "1458           0            0  \n",
      "\n",
      "[1459 rows x 48 columns]\n"
     ]
    }
   ],
   "source": [
    "obj_train = pd.get_dummies(obj_train, columns=['MSZoning'], prefix=['MSZoning'], dummy_na=True)\n",
    "print(obj_train)"
   ]
  },
  {
   "cell_type": "code",
   "execution_count": 93,
   "id": "legislative-flashing",
   "metadata": {},
   "outputs": [
    {
     "name": "stdout",
     "output_type": "stream",
     "text": [
      "Pave    1453\n",
      "Grvl       6\n",
      "Name: Street, dtype: int64\n"
     ]
    }
   ],
   "source": [
    "print(obj_train['Street'].value_counts())"
   ]
  },
  {
   "cell_type": "code",
   "execution_count": 94,
   "id": "respiratory-novelty",
   "metadata": {},
   "outputs": [],
   "source": [
    "# Going to drop streets because not much variability\n",
    "del obj_train['Street']"
   ]
  },
  {
   "cell_type": "code",
   "execution_count": 95,
   "id": "wound-church",
   "metadata": {},
   "outputs": [
    {
     "name": "stdout",
     "output_type": "stream",
     "text": [
      "Grvl    70\n",
      "Pave    37\n",
      "Name: Alley, dtype: int64\n"
     ]
    }
   ],
   "source": [
    "print(obj_train['Alley'].value_counts())"
   ]
  },
  {
   "cell_type": "code",
   "execution_count": 96,
   "id": "attached-scope",
   "metadata": {},
   "outputs": [
    {
     "data": {
      "text/plain": [
       "1352"
      ]
     },
     "execution_count": 96,
     "metadata": {},
     "output_type": "execute_result"
    }
   ],
   "source": [
    "obj_train['Alley'].isnull().sum()"
   ]
  },
  {
   "cell_type": "code",
   "execution_count": 97,
   "id": "scheduled-argument",
   "metadata": {},
   "outputs": [],
   "source": [
    "# Going to drop streets because too many null values\n",
    "del obj_train['Alley']"
   ]
  },
  {
   "cell_type": "code",
   "execution_count": 99,
   "id": "accessory-southeast",
   "metadata": {},
   "outputs": [
    {
     "name": "stdout",
     "output_type": "stream",
     "text": [
      "Reg    934\n",
      "IR1    484\n",
      "IR2     35\n",
      "IR3      6\n",
      "Name: LotShape, dtype: int64\n",
      "0\n"
     ]
    }
   ],
   "source": [
    "print(obj_train['LotShape'].value_counts())\n",
    "print(obj_train['LotShape'].isnull().sum())"
   ]
  },
  {
   "cell_type": "code",
   "execution_count": 100,
   "id": "willing-enterprise",
   "metadata": {},
   "outputs": [],
   "source": [
    "keep_cols = ['LotShape']"
   ]
  },
  {
   "cell_type": "code",
   "execution_count": 102,
   "id": "spanish-niger",
   "metadata": {},
   "outputs": [
    {
     "name": "stdout",
     "output_type": "stream",
     "text": [
      "Lvl    1311\n",
      "HLS      70\n",
      "Bnk      54\n",
      "Low      24\n",
      "Name: LandContour, dtype: int64\n",
      "0\n"
     ]
    }
   ],
   "source": [
    "def genData(col):\n",
    "    print(obj_train[col].value_counts())\n",
    "    print('How many nulls: ', obj_train[col].isnull().sum())\n",
    "genData('LandContour')"
   ]
  },
  {
   "cell_type": "code",
   "execution_count": 104,
   "id": "handled-luxury",
   "metadata": {},
   "outputs": [],
   "source": [
    "# Not enough variability\n",
    "drop_cols = ['LandContour']"
   ]
  },
  {
   "cell_type": "code",
   "execution_count": 105,
   "id": "restricted-bhutan",
   "metadata": {},
   "outputs": [
    {
     "name": "stdout",
     "output_type": "stream",
     "text": [
      "AllPub    1457\n",
      "Name: Utilities, dtype: int64\n",
      "2\n"
     ]
    }
   ],
   "source": [
    "genData('Utilities')"
   ]
  },
  {
   "cell_type": "code",
   "execution_count": 108,
   "id": "optional-inquiry",
   "metadata": {},
   "outputs": [],
   "source": [
    "drop_cols.append('Utilities')"
   ]
  },
  {
   "cell_type": "code",
   "execution_count": 109,
   "id": "chief-hotel",
   "metadata": {},
   "outputs": [
    {
     "name": "stdout",
     "output_type": "stream",
     "text": [
      "Inside     1081\n",
      "Corner      248\n",
      "CulDSac      82\n",
      "FR2          38\n",
      "FR3          10\n",
      "Name: LotConfig, dtype: int64\n",
      "0\n"
     ]
    }
   ],
   "source": [
    "genData('LotConfig')"
   ]
  },
  {
   "cell_type": "code",
   "execution_count": 110,
   "id": "veterinary-recognition",
   "metadata": {},
   "outputs": [],
   "source": [
    "keep_cols.append('LotConfig')"
   ]
  },
  {
   "cell_type": "code",
   "execution_count": 111,
   "id": "supreme-publisher",
   "metadata": {},
   "outputs": [
    {
     "name": "stdout",
     "output_type": "stream",
     "text": [
      "Gtl    1396\n",
      "Mod      60\n",
      "Sev       3\n",
      "Name: LandSlope, dtype: int64\n",
      "0\n"
     ]
    }
   ],
   "source": [
    "genData('LandSlope')"
   ]
  },
  {
   "cell_type": "code",
   "execution_count": 112,
   "id": "romantic-valuation",
   "metadata": {},
   "outputs": [],
   "source": [
    "# Not enough variability\n",
    "drop_cols.append('LandSlope')"
   ]
  },
  {
   "cell_type": "code",
   "execution_count": 113,
   "id": "reported-works",
   "metadata": {},
   "outputs": [
    {
     "name": "stdout",
     "output_type": "stream",
     "text": [
      "NAmes      218\n",
      "OldTown    126\n",
      "CollgCr    117\n",
      "Somerst     96\n",
      "Edwards     94\n",
      "NridgHt     89\n",
      "Gilbert     86\n",
      "Sawyer      77\n",
      "SawyerW     66\n",
      "Mitchel     65\n",
      "NWAmes      58\n",
      "IDOTRR      56\n",
      "Crawfor     52\n",
      "BrkSide     50\n",
      "Timber      34\n",
      "NoRidge     30\n",
      "StoneBr     26\n",
      "SWISU       23\n",
      "MeadowV     20\n",
      "ClearCr     16\n",
      "BrDale      14\n",
      "NPkVill     14\n",
      "Veenker     13\n",
      "Blmngtn     11\n",
      "Blueste      8\n",
      "Name: Neighborhood, dtype: int64\n",
      "0\n"
     ]
    }
   ],
   "source": [
    "genData('Neighborhood')"
   ]
  },
  {
   "cell_type": "code",
   "execution_count": 114,
   "id": "double-bolivia",
   "metadata": {},
   "outputs": [],
   "source": [
    "keep_cols.append('Neighborhood')"
   ]
  },
  {
   "cell_type": "code",
   "execution_count": 115,
   "id": "combined-sleeve",
   "metadata": {},
   "outputs": [
    {
     "name": "stdout",
     "output_type": "stream",
     "text": [
      "Norm      1251\n",
      "Feedr       83\n",
      "Artery      44\n",
      "RRAn        24\n",
      "PosN        20\n",
      "RRAe        17\n",
      "PosA        12\n",
      "RRNn         4\n",
      "RRNe         4\n",
      "Name: Condition1, dtype: int64\n",
      "0\n"
     ]
    }
   ],
   "source": [
    "genData('Condition1')"
   ]
  },
  {
   "cell_type": "code",
   "execution_count": 116,
   "id": "cognitive-tourist",
   "metadata": {},
   "outputs": [
    {
     "name": "stdout",
     "output_type": "stream",
     "text": [
      "Norm      1444\n",
      "Feedr        7\n",
      "Artery       3\n",
      "PosA         3\n",
      "PosN         2\n",
      "Name: Condition2, dtype: int64\n",
      "0\n"
     ]
    }
   ],
   "source": [
    "genData('Condition2')"
   ]
  },
  {
   "cell_type": "code",
   "execution_count": 118,
   "id": "soviet-spokesman",
   "metadata": {},
   "outputs": [],
   "source": [
    "keep_cols.append('Condition1')\n",
    "drop_cols.append('Condition2')"
   ]
  },
  {
   "cell_type": "code",
   "execution_count": 119,
   "id": "connected-clause",
   "metadata": {},
   "outputs": [
    {
     "name": "stdout",
     "output_type": "stream",
     "text": [
      "1Fam      1205\n",
      "TwnhsE     113\n",
      "Duplex      57\n",
      "Twnhs       53\n",
      "2fmCon      31\n",
      "Name: BldgType, dtype: int64\n",
      "0\n"
     ]
    }
   ],
   "source": [
    "genData('BldgType')"
   ]
  },
  {
   "cell_type": "code",
   "execution_count": 120,
   "id": "hydraulic-advancement",
   "metadata": {},
   "outputs": [],
   "source": [
    "keep_cols.append('BldgType')"
   ]
  },
  {
   "cell_type": "code",
   "execution_count": 121,
   "id": "incorporate-release",
   "metadata": {},
   "outputs": [
    {
     "name": "stdout",
     "output_type": "stream",
     "text": [
      "1Story    745\n",
      "2Story    427\n",
      "1.5Fin    160\n",
      "SLvl       63\n",
      "SFoyer     46\n",
      "2.5Unf     13\n",
      "1.5Unf      5\n",
      "Name: HouseStyle, dtype: int64\n",
      "0\n"
     ]
    }
   ],
   "source": [
    "genData('HouseStyle')"
   ]
  },
  {
   "cell_type": "code",
   "execution_count": 122,
   "id": "strange-arrival",
   "metadata": {},
   "outputs": [],
   "source": [
    "keep_cols.append('HouseStyle')"
   ]
  },
  {
   "cell_type": "code",
   "execution_count": 125,
   "id": "finished-estate",
   "metadata": {},
   "outputs": [
    {
     "name": "stdout",
     "output_type": "stream",
     "text": [
      "Gable      1169\n",
      "Hip         265\n",
      "Gambrel      11\n",
      "Flat          7\n",
      "Mansard       4\n",
      "Shed          3\n",
      "Name: RoofStyle, dtype: int64\n",
      "0\n"
     ]
    }
   ],
   "source": [
    "genData('RoofStyle')"
   ]
  },
  {
   "cell_type": "code",
   "execution_count": 128,
   "id": "latest-singer",
   "metadata": {},
   "outputs": [
    {
     "name": "stdout",
     "output_type": "stream",
     "text": [
      "['LotShape', 'LotConfig', 'Neighborhood', 'Condition1', 'BldgType', 'HouseStyle']\n"
     ]
    }
   ],
   "source": [
    "print(keep_cols)"
   ]
  },
  {
   "cell_type": "code",
   "execution_count": 129,
   "id": "compliant-member",
   "metadata": {},
   "outputs": [],
   "source": [
    "keep_cols.append('RoofStyle')"
   ]
  },
  {
   "cell_type": "code",
   "execution_count": 131,
   "id": "capable-system",
   "metadata": {},
   "outputs": [
    {
     "name": "stdout",
     "output_type": "stream",
     "text": [
      "CompShg    1442\n",
      "Tar&Grv      12\n",
      "WdShake       4\n",
      "WdShngl       1\n",
      "Name: RoofMatl, dtype: int64\n",
      "0\n"
     ]
    }
   ],
   "source": [
    "genData('RoofMatl')"
   ]
  },
  {
   "cell_type": "code",
   "execution_count": 132,
   "id": "binary-rotation",
   "metadata": {},
   "outputs": [],
   "source": [
    "drop_cols.append('RoofMatl')"
   ]
  },
  {
   "cell_type": "code",
   "execution_count": 133,
   "id": "prescription-boards",
   "metadata": {},
   "outputs": [
    {
     "name": "stdout",
     "output_type": "stream",
     "text": [
      "VinylSd    510\n",
      "MetalSd    230\n",
      "HdBoard    220\n",
      "Wd Sdng    205\n",
      "Plywood    113\n",
      "CemntBd     65\n",
      "BrkFace     37\n",
      "WdShing     30\n",
      "AsbShng     24\n",
      "Stucco      18\n",
      "BrkComm      4\n",
      "CBlock       1\n",
      "AsphShn      1\n",
      "Name: Exterior1st, dtype: int64\n",
      "1\n"
     ]
    }
   ],
   "source": [
    "genData('Exterior1st')"
   ]
  },
  {
   "cell_type": "code",
   "execution_count": 134,
   "id": "elder-amsterdam",
   "metadata": {},
   "outputs": [],
   "source": [
    "keep_cols.append('Exterior1st')"
   ]
  },
  {
   "cell_type": "code",
   "execution_count": 135,
   "id": "understood-appointment",
   "metadata": {},
   "outputs": [
    {
     "name": "stdout",
     "output_type": "stream",
     "text": [
      "VinylSd    510\n",
      "MetalSd    233\n",
      "HdBoard    199\n",
      "Wd Sdng    194\n",
      "Plywood    128\n",
      "CmentBd     66\n",
      "Wd Shng     43\n",
      "BrkFace     22\n",
      "Stucco      21\n",
      "AsbShng     18\n",
      "Brk Cmn     15\n",
      "ImStucc      5\n",
      "CBlock       2\n",
      "AsphShn      1\n",
      "Stone        1\n",
      "Name: Exterior2nd, dtype: int64\n",
      "1\n"
     ]
    }
   ],
   "source": [
    "genData('Exterior2nd')"
   ]
  },
  {
   "cell_type": "code",
   "execution_count": 136,
   "id": "labeled-magnitude",
   "metadata": {},
   "outputs": [],
   "source": [
    "keep_cols.append('Exterior2nd')"
   ]
  },
  {
   "cell_type": "code",
   "execution_count": 138,
   "id": "african-beverage",
   "metadata": {},
   "outputs": [
    {
     "name": "stdout",
     "output_type": "stream",
     "text": [
      "None       878\n",
      "BrkFace    434\n",
      "Stone      121\n",
      "BrkCmn      10\n",
      "Name: MasVnrType, dtype: int64\n",
      "16\n"
     ]
    }
   ],
   "source": [
    "genData('MasVnrType')"
   ]
  },
  {
   "cell_type": "code",
   "execution_count": 139,
   "id": "imperial-victory",
   "metadata": {},
   "outputs": [],
   "source": [
    "keep_cols.append('MasVnrType')"
   ]
  },
  {
   "cell_type": "code",
   "execution_count": 140,
   "id": "unsigned-cursor",
   "metadata": {},
   "outputs": [
    {
     "name": "stdout",
     "output_type": "stream",
     "text": [
      "TA    892\n",
      "Gd    491\n",
      "Ex     55\n",
      "Fa     21\n",
      "Name: ExterQual, dtype: int64\n",
      "0\n"
     ]
    }
   ],
   "source": [
    "genData('ExterQual')"
   ]
  },
  {
   "cell_type": "code",
   "execution_count": 142,
   "id": "built-above",
   "metadata": {},
   "outputs": [],
   "source": [
    "keep_cols.append('ExterQual')"
   ]
  },
  {
   "cell_type": "code",
   "execution_count": 143,
   "id": "worldwide-maria",
   "metadata": {},
   "outputs": [
    {
     "name": "stdout",
     "output_type": "stream",
     "text": [
      "TA    1256\n",
      "Gd     153\n",
      "Fa      39\n",
      "Ex       9\n",
      "Po       2\n",
      "Name: ExterCond, dtype: int64\n",
      "0\n"
     ]
    }
   ],
   "source": [
    "genData('ExterCond')"
   ]
  },
  {
   "cell_type": "code",
   "execution_count": 144,
   "id": "religious-active",
   "metadata": {},
   "outputs": [],
   "source": [
    "drop_cols.append('ExterCond')"
   ]
  },
  {
   "cell_type": "code",
   "execution_count": 145,
   "id": "educational-petersburg",
   "metadata": {},
   "outputs": [
    {
     "name": "stdout",
     "output_type": "stream",
     "text": [
      "PConc     661\n",
      "CBlock    601\n",
      "BrkTil    165\n",
      "Slab       25\n",
      "Stone       5\n",
      "Wood        2\n",
      "Name: Foundation, dtype: int64\n",
      "0\n"
     ]
    }
   ],
   "source": [
    "genData('Foundation')"
   ]
  },
  {
   "cell_type": "code",
   "execution_count": 146,
   "id": "weekly-appeal",
   "metadata": {},
   "outputs": [],
   "source": [
    "keep_cols.append('Foundation')"
   ]
  },
  {
   "cell_type": "code",
   "execution_count": 148,
   "id": "earlier-antibody",
   "metadata": {},
   "outputs": [
    {
     "name": "stdout",
     "output_type": "stream",
     "text": [
      "TA    1295\n",
      "Fa      59\n",
      "Gd      57\n",
      "Po       3\n",
      "Name: BsmtCond, dtype: int64\n",
      "45\n"
     ]
    }
   ],
   "source": [
    "genData('BsmtCond')"
   ]
  },
  {
   "cell_type": "code",
   "execution_count": 149,
   "id": "dirty-romania",
   "metadata": {},
   "outputs": [],
   "source": [
    "drop_cols.append('BsmtCond')"
   ]
  },
  {
   "cell_type": "code",
   "execution_count": 150,
   "id": "criminal-europe",
   "metadata": {},
   "outputs": [
    {
     "name": "stdout",
     "output_type": "stream",
     "text": [
      "TA    634\n",
      "Gd    591\n",
      "Ex    137\n",
      "Fa     53\n",
      "Name: BsmtQual, dtype: int64\n",
      "44\n"
     ]
    }
   ],
   "source": [
    "genData('BsmtQual')"
   ]
  },
  {
   "cell_type": "code",
   "execution_count": 151,
   "id": "residential-forest",
   "metadata": {},
   "outputs": [],
   "source": [
    "keep_cols.append('BsmtQual')"
   ]
  },
  {
   "cell_type": "code",
   "execution_count": 152,
   "id": "threatened-scout",
   "metadata": {},
   "outputs": [
    {
     "name": "stdout",
     "output_type": "stream",
     "text": [
      "No    951\n",
      "Av    197\n",
      "Gd    142\n",
      "Mn    125\n",
      "Name: BsmtExposure, dtype: int64\n",
      "44\n"
     ]
    }
   ],
   "source": [
    "genData('BsmtExposure')"
   ]
  },
  {
   "cell_type": "code",
   "execution_count": 153,
   "id": "lonely-sierra",
   "metadata": {},
   "outputs": [],
   "source": [
    "keep_cols.append('BsmtExposure')"
   ]
  },
  {
   "cell_type": "code",
   "execution_count": 154,
   "id": "handy-miller",
   "metadata": {},
   "outputs": [
    {
     "name": "stdout",
     "output_type": "stream",
     "text": [
      "GLQ    431\n",
      "Unf    421\n",
      "ALQ    209\n",
      "Rec    155\n",
      "BLQ    121\n",
      "LwQ     80\n",
      "Name: BsmtFinType1, dtype: int64\n",
      "42\n"
     ]
    }
   ],
   "source": [
    "genData('BsmtFinType1')"
   ]
  },
  {
   "cell_type": "code",
   "execution_count": 156,
   "id": "qualified-fighter",
   "metadata": {},
   "outputs": [
    {
     "name": "stdout",
     "output_type": "stream",
     "text": [
      "Unf    1237\n",
      "Rec      51\n",
      "LwQ      41\n",
      "BLQ      35\n",
      "ALQ      33\n",
      "GLQ      20\n",
      "Name: BsmtFinType2, dtype: int64\n",
      "42\n"
     ]
    }
   ],
   "source": [
    "genData('BsmtFinType2')"
   ]
  },
  {
   "cell_type": "code",
   "execution_count": 157,
   "id": "alien-automation",
   "metadata": {},
   "outputs": [],
   "source": [
    "keep_cols.append('BsmtFinType1')\n",
    "drop_cols.append('BsmtFinType2')"
   ]
  },
  {
   "cell_type": "code",
   "execution_count": 158,
   "id": "visible-contrary",
   "metadata": {},
   "outputs": [
    {
     "name": "stdout",
     "output_type": "stream",
     "text": [
      "GasA    1446\n",
      "GasW       9\n",
      "Grav       2\n",
      "Wall       2\n",
      "Name: Heating, dtype: int64\n",
      "0\n"
     ]
    }
   ],
   "source": [
    "genData('Heating')"
   ]
  },
  {
   "cell_type": "code",
   "execution_count": 159,
   "id": "light-corruption",
   "metadata": {},
   "outputs": [],
   "source": [
    "drop_cols.append('Heating')"
   ]
  },
  {
   "cell_type": "code",
   "execution_count": 160,
   "id": "chicken-silence",
   "metadata": {},
   "outputs": [
    {
     "name": "stdout",
     "output_type": "stream",
     "text": [
      "Ex    752\n",
      "TA    429\n",
      "Gd    233\n",
      "Fa     43\n",
      "Po      2\n",
      "Name: HeatingQC, dtype: int64\n",
      "0\n"
     ]
    }
   ],
   "source": [
    "genData('HeatingQC')"
   ]
  },
  {
   "cell_type": "code",
   "execution_count": 161,
   "id": "nasty-evaluation",
   "metadata": {},
   "outputs": [],
   "source": [
    "keep_cols.append('HeatingQC')"
   ]
  },
  {
   "cell_type": "code",
   "execution_count": 162,
   "id": "compressed-sending",
   "metadata": {},
   "outputs": [
    {
     "name": "stdout",
     "output_type": "stream",
     "text": [
      "Y    1358\n",
      "N     101\n",
      "Name: CentralAir, dtype: int64\n",
      "0\n"
     ]
    }
   ],
   "source": [
    "genData('CentralAir')"
   ]
  },
  {
   "cell_type": "code",
   "execution_count": 163,
   "id": "roman-calvin",
   "metadata": {},
   "outputs": [],
   "source": [
    "keep_cols.append('CentralAir')"
   ]
  },
  {
   "cell_type": "code",
   "execution_count": 164,
   "id": "proved-acrylic",
   "metadata": {},
   "outputs": [
    {
     "name": "stdout",
     "output_type": "stream",
     "text": [
      "SBrkr    1337\n",
      "FuseA      94\n",
      "FuseF      23\n",
      "FuseP       5\n",
      "Name: Electrical, dtype: int64\n",
      "0\n"
     ]
    }
   ],
   "source": [
    "genData('Electrical')"
   ]
  },
  {
   "cell_type": "code",
   "execution_count": 165,
   "id": "unable-volleyball",
   "metadata": {},
   "outputs": [],
   "source": [
    "drop_cols.append('Electrical')"
   ]
  },
  {
   "cell_type": "code",
   "execution_count": 166,
   "id": "activated-cross",
   "metadata": {},
   "outputs": [
    {
     "name": "stdout",
     "output_type": "stream",
     "text": [
      "TA    757\n",
      "Gd    565\n",
      "Ex    105\n",
      "Fa     31\n",
      "Name: KitchenQual, dtype: int64\n",
      "1\n"
     ]
    }
   ],
   "source": [
    "genData('KitchenQual')"
   ]
  },
  {
   "cell_type": "code",
   "execution_count": 167,
   "id": "latest-december",
   "metadata": {},
   "outputs": [],
   "source": [
    "keep_cols.append('KitchenQual')"
   ]
  },
  {
   "cell_type": "code",
   "execution_count": 168,
   "id": "published-showcase",
   "metadata": {},
   "outputs": [
    {
     "name": "stdout",
     "output_type": "stream",
     "text": [
      "Typ     1357\n",
      "Min2      36\n",
      "Min1      34\n",
      "Mod       20\n",
      "Maj1       5\n",
      "Maj2       4\n",
      "Sev        1\n",
      "Name: Functional, dtype: int64\n",
      "2\n"
     ]
    }
   ],
   "source": [
    "genData('Functional')"
   ]
  },
  {
   "cell_type": "code",
   "execution_count": 169,
   "id": "metallic-sample",
   "metadata": {},
   "outputs": [],
   "source": [
    "keep_cols.append('Functional')"
   ]
  },
  {
   "cell_type": "code",
   "execution_count": 171,
   "id": "incomplete-banner",
   "metadata": {},
   "outputs": [
    {
     "name": "stdout",
     "output_type": "stream",
     "text": [
      "Gd    364\n",
      "TA    279\n",
      "Fa     41\n",
      "Po     26\n",
      "Ex     19\n",
      "Name: FireplaceQu, dtype: int64\n",
      "730\n"
     ]
    }
   ],
   "source": [
    "genData('FireplaceQu')"
   ]
  },
  {
   "cell_type": "code",
   "execution_count": 172,
   "id": "australian-feature",
   "metadata": {},
   "outputs": [],
   "source": [
    "keep_cols.append('FireplaceQu')"
   ]
  },
  {
   "cell_type": "code",
   "execution_count": 173,
   "id": "sunrise-concentrate",
   "metadata": {},
   "outputs": [
    {
     "name": "stdout",
     "output_type": "stream",
     "text": [
      "Attchd     853\n",
      "Detchd     392\n",
      "BuiltIn     98\n",
      "Basment     17\n",
      "2Types      17\n",
      "CarPort      6\n",
      "Name: GarageType, dtype: int64\n",
      "76\n"
     ]
    }
   ],
   "source": [
    "genData('GarageType')"
   ]
  },
  {
   "cell_type": "code",
   "execution_count": 174,
   "id": "radical-stroke",
   "metadata": {},
   "outputs": [],
   "source": [
    "keep_cols.append('GarageType')"
   ]
  },
  {
   "cell_type": "code",
   "execution_count": 175,
   "id": "considered-wildlife",
   "metadata": {},
   "outputs": [
    {
     "name": "stdout",
     "output_type": "stream",
     "text": [
      "Unf    625\n",
      "RFn    389\n",
      "Fin    367\n",
      "Name: GarageFinish, dtype: int64\n",
      "78\n"
     ]
    }
   ],
   "source": [
    "genData('GarageFinish')"
   ]
  },
  {
   "cell_type": "code",
   "execution_count": 176,
   "id": "bigger-vessel",
   "metadata": {},
   "outputs": [],
   "source": [
    "keep_cols.append('GarageFinish')"
   ]
  },
  {
   "cell_type": "code",
   "execution_count": 177,
   "id": "accessible-philosophy",
   "metadata": {},
   "outputs": [
    {
     "name": "stdout",
     "output_type": "stream",
     "text": [
      "TA    1293\n",
      "Fa      76\n",
      "Gd      10\n",
      "Po       2\n",
      "Name: GarageQual, dtype: int64\n",
      "78\n"
     ]
    }
   ],
   "source": [
    "genData('GarageQual')"
   ]
  },
  {
   "cell_type": "code",
   "execution_count": 178,
   "id": "fabulous-evening",
   "metadata": {},
   "outputs": [],
   "source": [
    "drop_cols.append('GarageQual')"
   ]
  },
  {
   "cell_type": "code",
   "execution_count": 179,
   "id": "impressed-resistance",
   "metadata": {},
   "outputs": [
    {
     "name": "stdout",
     "output_type": "stream",
     "text": [
      "TA    1328\n",
      "Fa      39\n",
      "Po       7\n",
      "Gd       6\n",
      "Ex       1\n",
      "Name: GarageCond, dtype: int64\n",
      "78\n"
     ]
    }
   ],
   "source": [
    "genData('GarageCond')"
   ]
  },
  {
   "cell_type": "code",
   "execution_count": 180,
   "id": "intimate-serum",
   "metadata": {},
   "outputs": [],
   "source": [
    "drop_cols.append('GarageCond')"
   ]
  },
  {
   "cell_type": "code",
   "execution_count": 181,
   "id": "sunrise-whole",
   "metadata": {},
   "outputs": [
    {
     "name": "stdout",
     "output_type": "stream",
     "text": [
      "Y    1301\n",
      "N     126\n",
      "P      32\n",
      "Name: PavedDrive, dtype: int64\n",
      "0\n"
     ]
    }
   ],
   "source": [
    "genData('PavedDrive')"
   ]
  },
  {
   "cell_type": "code",
   "execution_count": 182,
   "id": "fifteen-italic",
   "metadata": {},
   "outputs": [],
   "source": [
    "keep_cols.append('PavedDrive')"
   ]
  },
  {
   "cell_type": "code",
   "execution_count": 183,
   "id": "compact-settle",
   "metadata": {},
   "outputs": [
    {
     "name": "stdout",
     "output_type": "stream",
     "text": [
      "Ex    2\n",
      "Gd    1\n",
      "Name: PoolQC, dtype: int64\n",
      "1456\n"
     ]
    }
   ],
   "source": [
    "genData('PoolQC')"
   ]
  },
  {
   "cell_type": "code",
   "execution_count": 184,
   "id": "operating-invite",
   "metadata": {},
   "outputs": [],
   "source": [
    "drop_cols.append('PoolQC')"
   ]
  },
  {
   "cell_type": "code",
   "execution_count": 185,
   "id": "intended-warehouse",
   "metadata": {},
   "outputs": [
    {
     "name": "stdout",
     "output_type": "stream",
     "text": [
      "MnPrv    172\n",
      "GdPrv     59\n",
      "GdWo      58\n",
      "MnWw       1\n",
      "Name: Fence, dtype: int64\n",
      "1169\n"
     ]
    }
   ],
   "source": [
    "genData('Fence')"
   ]
  },
  {
   "cell_type": "code",
   "execution_count": 186,
   "id": "incident-player",
   "metadata": {},
   "outputs": [],
   "source": [
    "drop_cols.append('Fence')"
   ]
  },
  {
   "cell_type": "code",
   "execution_count": 188,
   "id": "sharing-excerpt",
   "metadata": {},
   "outputs": [
    {
     "name": "stdout",
     "output_type": "stream",
     "text": [
      "Shed    46\n",
      "Gar2     3\n",
      "Othr     2\n",
      "Name: MiscFeature, dtype: int64\n",
      "1408\n"
     ]
    }
   ],
   "source": [
    "genData('MiscFeature')"
   ]
  },
  {
   "cell_type": "code",
   "execution_count": 189,
   "id": "catholic-fields",
   "metadata": {},
   "outputs": [],
   "source": [
    "drop_cols.append('MiscFeature')"
   ]
  },
  {
   "cell_type": "code",
   "execution_count": 191,
   "id": "abroad-magnet",
   "metadata": {},
   "outputs": [
    {
     "name": "stdout",
     "output_type": "stream",
     "text": [
      "WD       1258\n",
      "New       117\n",
      "COD        44\n",
      "ConLD      17\n",
      "CWD         8\n",
      "Oth         4\n",
      "ConLI       4\n",
      "Con         3\n",
      "ConLw       3\n",
      "Name: SaleType, dtype: int64\n",
      "1\n"
     ]
    }
   ],
   "source": [
    "genData('SaleType')"
   ]
  },
  {
   "cell_type": "code",
   "execution_count": 192,
   "id": "criminal-japanese",
   "metadata": {},
   "outputs": [],
   "source": [
    "keep_cols.append('SaleType')"
   ]
  },
  {
   "cell_type": "code",
   "execution_count": 193,
   "id": "independent-antarctica",
   "metadata": {},
   "outputs": [
    {
     "name": "stdout",
     "output_type": "stream",
     "text": [
      "Normal     1204\n",
      "Partial     120\n",
      "Abnorml      89\n",
      "Family       26\n",
      "Alloca       12\n",
      "AdjLand       8\n",
      "Name: SaleCondition, dtype: int64\n",
      "0\n"
     ]
    }
   ],
   "source": [
    "genData('SaleCondition')"
   ]
  },
  {
   "cell_type": "code",
   "execution_count": 194,
   "id": "valued-qatar",
   "metadata": {},
   "outputs": [],
   "source": [
    "keep_cols.append('SaleCondition')"
   ]
  },
  {
   "cell_type": "code",
   "execution_count": 195,
   "id": "religious-starter",
   "metadata": {},
   "outputs": [],
   "source": [
    "for col in drop_cols:\n",
    "    del obj_train[col]"
   ]
  },
  {
   "cell_type": "code",
   "execution_count": 196,
   "id": "arabic-witch",
   "metadata": {},
   "outputs": [
    {
     "name": "stdout",
     "output_type": "stream",
     "text": [
      "  LotShape LotConfig Neighborhood Condition1 BldgType HouseStyle RoofStyle  \\\n",
      "0      Reg    Inside        NAmes      Feedr     1Fam     1Story     Gable   \n",
      "1      IR1    Corner        NAmes       Norm     1Fam     1Story       Hip   \n",
      "2      IR1    Inside      Gilbert       Norm     1Fam     2Story     Gable   \n",
      "3      IR1    Inside      Gilbert       Norm     1Fam     2Story     Gable   \n",
      "4      IR1    Inside      StoneBr       Norm   TwnhsE     1Story     Gable   \n",
      "\n",
      "  Exterior1st Exterior2nd MasVnrType  ... GarageFinish PavedDrive SaleType  \\\n",
      "0     VinylSd     VinylSd       None  ...          Unf          Y       WD   \n",
      "1     Wd Sdng     Wd Sdng    BrkFace  ...          Unf          Y       WD   \n",
      "2     VinylSd     VinylSd       None  ...          Fin          Y       WD   \n",
      "3     VinylSd     VinylSd    BrkFace  ...          Fin          Y       WD   \n",
      "4     HdBoard     HdBoard       None  ...          RFn          Y       WD   \n",
      "\n",
      "  SaleCondition MSZoning_C (all) MSZoning_FV MSZoning_RH MSZoning_RL  \\\n",
      "0        Normal                0           0           1           0   \n",
      "1        Normal                0           0           0           1   \n",
      "2        Normal                0           0           0           1   \n",
      "3        Normal                0           0           0           1   \n",
      "4        Normal                0           0           0           1   \n",
      "\n",
      "  MSZoning_RM MSZoning_nan  \n",
      "0           0            0  \n",
      "1           0            0  \n",
      "2           0            0  \n",
      "3           0            0  \n",
      "4           0            0  \n",
      "\n",
      "[5 rows x 31 columns]\n"
     ]
    }
   ],
   "source": [
    "print(obj_train.head())"
   ]
  },
  {
   "cell_type": "code",
   "execution_count": null,
   "id": "cloudy-luxury",
   "metadata": {},
   "outputs": [],
   "source": [
    "for col in keep_cols:\n",
    "    "
   ]
  }
 ],
 "metadata": {
  "kernelspec": {
   "display_name": "Python 3",
   "language": "python",
   "name": "python3"
  },
  "language_info": {
   "codemirror_mode": {
    "name": "ipython",
    "version": 3
   },
   "file_extension": ".py",
   "mimetype": "text/x-python",
   "name": "python",
   "nbconvert_exporter": "python",
   "pygments_lexer": "ipython3",
   "version": "3.8.5"
  }
 },
 "nbformat": 4,
 "nbformat_minor": 5
}
